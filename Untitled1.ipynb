{
 "metadata": {
  "name": "",
  "signature": "sha256:b3d1eb3a6f0c941613f82f2233706a573dfdd61bf147437cc4baba29b56b0cfb"
 },
 "nbformat": 3,
 "nbformat_minor": 0,
 "worksheets": [
  {
   "cells": [
    {
     "cell_type": "heading",
     "level": 1,
     "metadata": {},
     "source": [
      "$$ACTIVIDAD$$$$N\u00b03$$"
     ]
    },
    {
     "cell_type": "heading",
     "level": 6,
     "metadata": {},
     "source": [
      "Diego Alexander O\u00f1ate Pe\u00f1uela - 625083"
     ]
    },
    {
     "cell_type": "heading",
     "level": 3,
     "metadata": {},
     "source": [
      "1. Teor\u00eda estad\u00edstica y simulacion"
     ]
    },
    {
     "cell_type": "markdown",
     "metadata": {},
     "source": [
      "<h7>a) Dada una variable aleatoria $X \\sim Gamma(k,\\theta)$ con p\u00e1rametros de forma $k>0$, par\u00e1metro de escala $\\theta>0$ y con $FDP$ dada por:</h7> \n",
      "<h7>$$f_X(x)=\\frac{x^{k-1}e^{\\frac{-x}{\\theta}}}{\\theta^k\\Gamma(k)}I_{(0,\\infty)}(x)$$</h7>\n",
      "<h7>donde $\\Gamma(k)$ es la funci\u00f3n gamma dada por:</h7>\n",
      "<h7>$$\\Gamma(k)=\\int_{0}^{\\infty}u^{k-1}e^{-u}du$$</h7>\n",
      "<h7>Demustre matem\u00e1ticamente que:</h7>"
     ]
    },
    {
     "cell_type": "markdown",
     "metadata": {},
     "source": [
      "<h6>$*$ $E[X]=k\\theta$</h6>\n",
      "<h7>$$\\int_{0}^{\\infty}u^{k-1}e^{-u}du=(k-1)!$$</h7>\n",
      "<br><h7>$$E[X]=\\int_{0}^{\\infty}x\\frac{x^{k-1}e^{\\frac{-x}{\\theta}}}{\\theta^k(k-1)!}dx$$</h7>\n",
      "<br><h7>$$E[X]=\\frac{1}{\\theta^k(k-1)!}\\int_{0}^{\\infty}x(x^{k-1}e^{\\frac{-x}{\\theta}})dx$$</h7>\n",
      "<br><h7>$$E[X]=\\frac{1}{\\theta^k(k-1)!}[\\theta x^k(\\frac{x}{\\theta})^{-k}(k!)]_{0}^{\\infty}$$</h7>\n",
      "<br><h7>$$E[X]=\\frac{1}{\\theta^k(k-1)!}[\\theta x^k(\\frac{x^{-k}}{\\theta^{-k}})(k!)]_{0}^{\\infty}$$</h7>\n",
      "<br><h7>$$E[X]=\\frac{(\\theta)(k!)}{(k-1)!}$$</h7>\n",
      "<br><h7>$$E[X]=\\frac{(\\theta)(k)(k-1)!}{(k-1)!}$$</h7>\n",
      "<br><h7>$$E[X]=k\\theta$$</h7>"
     ]
    },
    {
     "cell_type": "markdown",
     "metadata": {},
     "source": [
      "<h6>$*$ $Var[X]=k\\theta^2$</h6>\n",
      "<h7>$$VAR[X]=E[X^2]-(E[X])^2$$</h7>\n",
      "<br><h7>$$VAR[X]=\\int_{0}^{\\infty}x^2\\frac{x^{k-1}e^{\\frac{-x}{\\theta}}}{\\theta^k(k-1)!}dx - (k \\theta)^2$$</h7>\n",
      "<br><h7>$$VAR[X]=\\frac{1}{\\theta^k(k-1)!}[\\theta^2x^k(\\frac{x}{\\theta})^{-k}(k+1)!]_{0}^{\\infty}-(k \\theta)^2$$</h7>\n",
      "<br><h7>$$VAR[X]=\\frac{1}{\\theta^k(k-1)!}[\\theta^2x^k(\\frac{x^{-k}}{\\theta^{-k}})(k+1)!]_{0}^{\\infty}-(k \\theta)^2$$</h7>\n",
      "<br><h7>$$VAR[X]=\\frac{\\theta^2(k+1)!}{(k-1)!}-(k \\theta)^2$$</h7>\n",
      "<br><h7>$$VAR[X]=\\frac{\\theta^2(k+1)(k)(k-1)!}{(k-1)!}-k^2 \\theta^2$$</h7>\n",
      "<br><h7>$$VAR[X]=\\theta^2((k+1)k-k^2)$$</h7>\n",
      "<br><h7>$$VAR[X]=\\theta^2((k^2+k-k^2)$$</h7>\n",
      "<br><h7>$$VAR[X]=k\\theta^2$$</h7>"
     ]
    },
    {
     "cell_type": "markdown",
     "metadata": {},
     "source": [
      "<h7>b) Dada una variable aleatoria $X \\sim Exp(\\theta)$ con p\u00e1rametros de escala $\\theta>0$ y con $FDP$ dada por:</h7> \n",
      "<h7>$$f_X(x)=\\frac{1}{\\theta}e^{-\\frac{x}{\\theta}}I_({o,\\infty})(x)$$</h7>\n",
      "<h7>Demuestre matem\u00e1ticamente que:</h7>"
     ]
    },
    {
     "cell_type": "markdown",
     "metadata": {},
     "source": [
      "<h6>$*$ $E[X]=\\theta$</h6>\n",
      "<h7>$$E[X]=\\int_{0}^{\\infty}x\\frac{1}{\\theta}e^{-\\frac{x}{\\theta}}dx$$</h7>\n",
      "<br><h7>$$E[X]=\\frac{1}{\\theta}\\int_{0}^{\\infty}xe^{-\\frac{x}{\\theta}}dx$$</h7>\n",
      "<br><h7>$$E[X]=\\frac{1}{\\theta}[-\\theta e^{-\\frac{x}{\\theta}}(x+\\theta)]_{0}^{\\infty}$$</h7>\n",
      "<br><h7>$$E[X]=\\frac{1}{\\theta}[-\\theta e^{-\\frac{\\infty}{\\theta}}(\\infty+\\theta)-(-\\theta e^{-\\frac{0}{\\theta}}(0+\\theta))]$$</h7>\n",
      "<br><h7>$$E[X]=\\frac{1}{\\theta}[\\theta^2]$$</h7>\n",
      "<br><h7>$$E[X]=\\theta$$</h7>"
     ]
    },
    {
     "cell_type": "markdown",
     "metadata": {},
     "source": [
      "<h6>$*$ $VAR[X]=\\theta^2$</h6>\n",
      "<h7>$$VAR[X]=E[X^2]-(E[X])^2$$</h7>\n",
      "<br><h7>$$VAR[X]=\\int_{0}^{\\infty}x^2\\frac{1}{\\theta}e^{-\\frac{x}{\\theta}}dx-\\theta^2$$</h7>\n",
      "<br><h7>$$E[X]=\\frac{1}{\\theta}\\int_{0}^{\\infty}x^2e^{-\\frac{x}{\\theta}}dx$$</h7>\n",
      "<br><h7>$$E[X]=\\frac{1}{\\theta}[-\\theta e^{-\\frac{x}{\\theta}}(2\\theta^2+2\\theta x+x^2)]_{0}^{\\infty}-\\theta^2$$</h7>\n",
      "<br><h7>$$E[X]=\\frac{1}{\\theta}[-\\theta e^{-\\frac{\\infty}{\\theta}}(2\\theta^2+2\\theta \\infty+\\infty^2)-(-\\theta e^{-\\frac{0}{\\theta}}(2\\theta^2+2\\theta 0+0^2))]-\\theta^2$$</h7>\n",
      "<br><h7>$$E[X]=\\frac{1}{\\theta}[2\\theta^3]-\\theta^2$$</h7>\n",
      "<br><h7>$$E[X]=2\\theta^2-\\theta^2$$</h7>\n",
      "<br><h7>$$E[X]=\\theta^2$$</h7>"
     ]
    },
    {
     "cell_type": "markdown",
     "metadata": {},
     "source": [
      "<h7>c) Realice las gr\u00e1ficas correspondientes y analice los resultados.</h7>"
     ]
    },
    {
     "cell_type": "code",
     "collapsed": false,
     "input": [
      "import numpy as kt\n",
      "import scipy.stats\n",
      "import pylab as plt\n",
      "import matplotlib\n",
      "import math\n",
      "plt.figure(figsize = (17,6))\n",
      "t=0.05\n",
      "k=400000000000\n",
      "x=kt.random.gamma(k,t)\n",
      "expectedValueT=t*k\n",
      "mean=x\n",
      "bins=100\n",
      "plt.setp(patches,'facecolor','g','alpha',0.75)\n",
      "plt.grid()\n",
      "plt.plot([mean,mean],[0,max(siz)],color='r',label=\"Sample Mean:\"+str(mean))\n",
      "plt.plot([expectedValueT, expectedValueT],[0,max(siz)],color='b',label=\"Expected Value:\"+str(expectedValueT))\n",
      "plt.legend()\n",
      "plt.show()"
     ],
     "language": "python",
     "metadata": {},
     "outputs": [
      {
       "metadata": {},
       "output_type": "display_data",
       "png": "[encoded data removed]",
       "text": [
        "<matplotlib.figure.Figure at 0xeaadc88>"
       ]
      }
     ],
     "prompt_number": 96
    },
    {
     "cell_type": "code",
     "collapsed": false,
     "input": [
      "import numpy as kt\n",
      "import scipy.stats\n",
      "import pylab as plt\n",
      "import matplotlib\n",
      "import math\n",
      "plt.figure(figsize = (17,6))\n",
      "t=0.5\n",
      "x=kt.random.exponential(scale=t, size=100000000)\n",
      "expectedValueT=t\n",
      "mean=x.mean()\n",
      "bins=100\n",
      "plt.setp(patches,'facecolor','g','alpha',0.75)\n",
      "plt.grid()\n",
      "plt.plot([mean,mean],[0,max(siz)],color='r',label=\"Sample Mean:\"+str(mean))\n",
      "plt.plot([expectedValueT, expectedValueT],[0,max(siz)],color='b',label=\"Expected Value:\"+str(expectedValueT))\n",
      "plt.legend()\n",
      "plt.show()"
     ],
     "language": "python",
     "metadata": {},
     "outputs": [
      {
       "metadata": {},
       "output_type": "display_data",
       "png": "[encoded data removed]",
       "text": [
        "<matplotlib.figure.Figure at 0xed6c9e8>"
       ]
      }
     ],
     "prompt_number": 121
    },
    {
     "cell_type": "heading",
     "level": 3,
     "metadata": {},
     "source": [
      "2. Algo m\u00e1s de valor esperado"
     ]
    },
    {
     "cell_type": "markdown",
     "metadata": {},
     "source": [
      "<h7>a) Hallar el valor esperado de lanzar simult\u00e1neamente un par de dados de seis caras.</h7>"
     ]
    },
    {
     "cell_type": "markdown",
     "metadata": {},
     "source": [
      "<h7>$E[X]=\\sum_{i=1}^n x_if(x_i)$</h7>\n",
      "<h7>Probabilidad de que salga un n\u00famero al lanzar los dos dados simult\u00e1neamente:</h7>\n",
      "<br><h7>$$\\frac{2}{\\frac{1}{36}}\\frac{3}{\\frac{2}{36}}\\frac{4}{\\frac{3}{36}}\\frac{5}{\\frac{4}{36}}\\frac{6}{\\frac{5}{36}}\\frac{7}{\\frac{6}{36}}\\frac{8}{\\frac{5}{36}}\\frac{9}{\\frac{4}{36}}\\frac{10}{\\frac{3}{36}}\\frac{11}{\\frac{2}{36}}\\frac{12}{\\frac{1}{36}}$$</h7>\n",
      "<br><h7>$$E[X]=2\\frac{1}{36}+3\\frac{2}{36}+4\\frac{3}{36}+5\\frac{4}{36}+6\\frac{5}{36}+7\\frac{6}{36}+8\\frac{5}{36}+9\\frac{4}{36}+10\\frac{3}{36}+11\\frac{2}{36}+12\\frac{1}{36}$$</h7>\n",
      "<br><h7>$$E[X]=7$$</h7>"
     ]
    },
    {
     "cell_type": "markdown",
     "metadata": {},
     "source": [
      "<h7>b) Dada la siguiente funci\u00f3n de densidad conjunta de dos variables aleatorias $X,Y$ esta dada por:</h7>"
     ]
    },
    {
     "cell_type": "markdown",
     "metadata": {},
     "source": [
      "<h7>$f(x,y)=\\frac{xy}{96}$ $0<x<4,1<y<5$, de otro mode es $0$</h7>"
     ]
    },
    {
     "cell_type": "markdown",
     "metadata": {},
     "source": [
      "<h7>Hallar:</h7>"
     ]
    },
    {
     "cell_type": "markdown",
     "metadata": {},
     "source": [
      "<h7>$*$ $E[X]$</h7>\n",
      "<br><h7>$$E[X]= \\int_{0}^{4}x\\frac{xy}{96}dx$$</h7>\n",
      "<br><h7>$$E[X]=\\frac{y}{96} \\int_{0}^{4}x^2dx$$</h7>\n",
      "<br><h7>$$E[X]=\\frac{y}{96} [\\frac{x^3}{3}]_{0}^{4}$$</h7>\n",
      "<br><h7>$$E[X]=\\frac{y}{96} [\\frac{4^3}{3}-(\\frac{0^3}{3})]$$</h7>\n",
      "<br><h7>$$E[X]=\\frac{2y}{27}$$</h7>"
     ]
    },
    {
     "cell_type": "markdown",
     "metadata": {},
     "source": [
      "<h7>$*$ $E[Y]$</h7>\n",
      "<h7>$$E[Y]= \\int_{1}^{5}y\\frac{xy}{96}dy$$</h7>\n",
      "<br><h7>$$E[Y]=\\frac{x}{96} \\int_{1}^{5}y^2dy$$</h7>\n",
      "<br><h7>$$E[Y]=\\frac{x}{96} [\\frac{y^3}{3}]_{1}^{5}$$</h7>\n",
      "<br><h7>$$E[Y]=\\frac{x}{96} [\\frac{5^3}{3}-(\\frac{1^3}{3})]$$</h7>\n",
      "<br><h7>$$E[Y]=\\frac{31x}{72}$$</h7>"
     ]
    },
    {
     "cell_type": "markdown",
     "metadata": {},
     "source": [
      "<h7>$*$ $E[XY]$</h7>\n",
      "<h7>$$E[XY]= \\int_{0}^{4}\\int_{1}^{5}xy\\frac{xy}{96}dydx$$</h7>\n",
      "<br><h7>$$E[XY]=\\frac{1}{96} \\int_{0}^{4}\\int_{1}^{5}(xy)^2dydx$$</h7>\n",
      "<br><h7>$$E[XY]=\\frac{1}{96} \\int_{0}^{4}[X^2(\\frac{y^3}{3})]_{1}^{5}dx$$</h7>\n",
      "<br><h7>$$E[XY]=\\frac{1}{96} \\int_{0}^{4}\\frac{124x^2}{3}dx$$</h7>\n",
      "<br><h7>$$E[XY]=\\frac{1}{96} [\\frac{124x^3}{9}]_{0}^{4}$$</h7>\n",
      "<br><h7>$$E[XY]=\\frac{1}{96} [\\frac{124(4^3)}{9}]$$</h7>\n",
      "<br><h7>$$E[XY]=\\frac{248}{27}=9.18518$$</h7>"
     ]
    },
    {
     "cell_type": "markdown",
     "metadata": {},
     "source": [
      "<h7>$*$ $E[2X+3Y]$</h7>}\n",
      "<h7>$$E[2X+3Y]= \\int_{0}^{4}\\int_{1}^{5}2x+3y\\frac{xy}{96}dydx$$</h7>\n",
      "<br><h7>$$E[2X+3Y]= \\int_{0}^{4}\\int_{1}^{5}\\frac{2x^2y+3xy^2}{96}dydx$$</h7>\n",
      "<br><h7>$$E[2X+3Y]=\\frac{1}{96} \\int_{0}^{4}x[y^3+y^2x]_{1}^{5}dx$$</h7>\n",
      "<br><h7>$$E[2X+3Y]=\\frac{1}{96} \\int_{0}^{4}x[5^3+5^2x-(1^3+1^2x)]dx$$</h7>\n",
      "<br><h7>$$E[2X+3Y]=\\frac{1}{96} \\int_{0}^{4}124x-24x^2dx$$</h7>\n",
      "<br><h7>$$E[2X+3Y]=\\frac{1}{96} [62x^2-8x^3]_{0}^{4}$$</h7>\n",
      "<br><h7>$$E[2X+3Y]=\\frac{1}{96} [62(4^2)-8(4^3)]$$</h7>\n",
      "<br><h7>$$E[2X+3Y]=5$$</h7>"
     ]
    },
    {
     "cell_type": "markdown",
     "metadata": {},
     "source": [
      "<h7>$*$ $f_{y|x}(Y|X)$</h7>\n",
      "<br><h7>Teniendo en cuenta $f(x)=\\int_{0}^{n}f(y,x)dy$</h7>\n",
      "<h7>$$f_{y|x}(Y|X)=\\frac{f(y,x)}{f(x)}$$</h7>\n",
      "<br><h7>$$f_{y|x}(Y|X)=\\frac{\\frac{xy}{96}}{\\int_{0}^{5}\\frac{xy}{96}dy}$$</h7>\n",
      "<br><h7>$$f_{y|x}(Y|X)=\\frac{\\frac{xy}{96}}{[\\frac{xy^2}{192}]_{0}^{5}}$$</h7>\n",
      "<br><h7>$$f_{y|x}(Y|X)=\\frac{\\frac{xy}{96}}{\\frac{25x}{192}}$$</h7>\n",
      "<br><h7>$$f_{y|x}(Y|X)=\\frac{192xy}{2400x}$$</h7>\n",
      "<br><h7>$$f_{y|x}(Y|X)=\\frac{2y}{25}$$</h7>"
     ]
    },
    {
     "cell_type": "markdown",
     "metadata": {},
     "source": [
      "<h7>c) Dada la siguiente funcion de densidad conjunta de una variable aleatoria $X$ es:</h7>"
     ]
    },
    {
     "cell_type": "markdown",
     "metadata": {},
     "source": [
      "<h7>$f(x)=\\frac{4x(9-x^2)}{81}$ $0\\leq x\\leq8$, de otro mode es $0$</h7>"
     ]
    },
    {
     "cell_type": "markdown",
     "metadata": {},
     "source": [
      "<h7>$*$ Moda=</h7>\n",
      "<br><h7>$$f(x)=\\frac{4x(9-x^2)}{81}$$</h7>\n",
      "<br><h7>$$f'(x)=-\\frac{4}{27}(x^2-3)=\\pm\\sqrt(3)$$</h7>\n",
      "<br><h7>$$f''(x)=-\\frac{8}{27}x=-\\frac{8}{27}\\pm\\sqrt(3)=0.5132$$</h7>\n",
      "<br><h7>La moda es $0.5132$</h7>"
     ]
    },
    {
     "cell_type": "markdown",
     "metadata": {},
     "source": [
      "<h7>$*$ Mediana=</h7>\n",
      "<h7>$$\\int_{0}^{\\lambda}\\frac{4x(9-x^2)}{81}dx$$</h7>\n",
      "<br><h7>$$-\\frac{4}{81}[(\\frac{x^4}{4}-\\frac{9x^2}{2})]_{0}^{\\lambda}$$</h7>\n",
      "<br><h7>$$-\\frac{4}{81}[(\\frac{\\lambda^4}{4}-\\frac{9 \\lambda^2}{2})-0]$$</h7>\n",
      "<br><h7>$$-\\frac{4}{81}[\\frac{\\lambda^4-18\\lambda^2}{4}]=0$$</h7>\n",
      "<br><h7>$$\\lambda^2(\\lambda^2-18)=0$$</h7>\n",
      "<br><h7>$$\\lambda=\\sqrt(18)=4.2426$$</h7>\n",
      "<br><h7>La mediana es $4.2426$</h7>"
     ]
    },
    {
     "cell_type": "markdown",
     "metadata": {},
     "source": [
      "<h7>$*$ Media=</h7>"
     ]
    },
    {
     "cell_type": "code",
     "collapsed": false,
     "input": [
      "from matplotlib import pyplot\n",
      "\n",
      "def f1(x):\n",
      "    return ((9-x**2)*(4*x))/81\n",
      "\n",
      "pyplot.plot(x, [f1(i) for i in x])\n",
      "\n",
      "pyplot.xlim(-3, 6)\n",
      "pyplot.ylim(-1, 1)\n",
      "\n",
      "pyplot.show()"
     ],
     "language": "python",
     "metadata": {},
     "outputs": [
      {
       "metadata": {},
       "output_type": "display_data",
       "png": "[encoded data removed]",
       "text": [
        "<matplotlib.figure.Figure at 0xa55ba58>"
       ]
      }
     ],
     "prompt_number": 50
    },
    {
     "cell_type": "markdown",
     "metadata": {},
     "source": [
      "<h7>Seg\u00fan la gr\u00e1fica se tiene que evaluar $f(x)$ de $0$ a $3$</h7>\n",
      "<br><h7>$$\\int_{0}^{3}x\\frac{4x(9-x^2)}{81}dx$$</h7>\n",
      "<br><h7>$$[-\\frac{4}{81}(\\frac{x^5}{5}-3x^3)]_{0}^{3}$$</h7>\n",
      "<br><h7>$$-\\frac{4}{81}(\\frac{3^5}{5}-3(3^3))-0$$</h7>\n",
      "<br><h7>$$-\\frac{4}{81}(\\frac{243}{5}-81)$$</h7>\n",
      "<br><h7>$$\\frac{8}{5}=1.6$$</h7>"
     ]
    },
    {
     "cell_type": "markdown",
     "metadata": {},
     "source": [
      "<h7>d) Dadas $X_1,X_2,...,X_n$ variables aleatorias mutuamente independientes(discretas o continuas), cada una con media $\\upsilon$ y con varianza $\\sigma^2$ finitas. Entonces si $S_n=X_1+X_2+...+X_n$ con $n=1,2,3...$,demuestre que:</h7>"
     ]
    },
    {
     "cell_type": "markdown",
     "metadata": {},
     "source": [
      "<h7>$$\\lim\\limits_{n\\rightarrow \\infty}P(|\\frac{S_n}{n}-\\upsilon|\\geq\\in)=0$$</h7>\n",
      "<br><h7>Si:</h7>\n",
      "<br><h7>$\\frac{S_n}{n}=\\frac{X_1+X_2+X_3+...X_n}{n}$</h7>\n",
      "<br><h7>$\\upsilon=E[X]=\\sum_{X=1}^{n}Xp(X)$</h7>\n",
      "<br><h7>Entonces:</h7>\n",
      "<br><h7>$$\\lim\\limits_{n\\rightarrow \\infty}P(|\\frac{X_1+X_2+X_3+...X_n}{n}-\\sum_{X=1}^{n}Xp(X)$|\\geq\\in)=0$$</h7>\n",
      "<br><h7>$$\\lim\\limits_{n\\rightarrow \\infty}P(|\\frac{X_1+X_2+X_3+...X_n}{n}-X_1+X_2+X_3+...X_n(\\frac{1}{n})|\\geq\\in)=0$$</h7>\n",
      "<br><h7>$$P(|0|\\geq\\in)=0$$</h7>"
     ]
    }
   ],
   "metadata": {}
  }
 ]
}

